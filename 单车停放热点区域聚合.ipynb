{
 "cells": [
  {
   "cell_type": "markdown",
   "metadata": {},
   "source": [
    "# 为什么选择单车停放热点区域？"
   ]
  },
  {
   "cell_type": "markdown",
   "metadata": {},
   "source": [
    "在共享单车热点区域识别中，共识别了三类热点区域，包括：取车热点、还车热点和单车停放热点。\n",
    "\n",
    "取车热点、还车热点仅在早晚高峰存在，而单车停放热点则在24小时均有分布，满足连续观测的条件。\n",
    "\n",
    "7天×18小时×n=23605个单车停放热点区域，其中有些区域在多个时段均出现，有些区域仅出现在个别时段，有些热点区域的形态随时间而扩张或收缩......\n",
    "\n",
    "此文档将解决如何将这23605个热点区域Polygon进行聚合的问题。"
   ]
  },
  {
   "cell_type": "markdown",
   "metadata": {},
   "source": [
    "# 数据读取"
   ]
  },
  {
   "cell_type": "code",
   "execution_count": 1,
   "metadata": {
    "ExecuteTime": {
     "end_time": "2022-03-13T03:11:17.621816Z",
     "start_time": "2022-03-13T03:11:16.715509Z"
    }
   },
   "outputs": [],
   "source": [
    "import pandas as pd\n",
    "import geopandas\n",
    "import warnings\n",
    "warnings.filterwarnings(\"ignore\")"
   ]
  },
  {
   "cell_type": "code",
   "execution_count": 2,
   "metadata": {
    "ExecuteTime": {
     "end_time": "2022-03-13T03:11:24.861175Z",
     "start_time": "2022-03-13T03:11:20.621703Z"
    }
   },
   "outputs": [
    {
     "name": "stdout",
     "output_type": "stream",
     "text": [
      "ph0510.json\n",
      "ph0511.json\n",
      "ph0512.json\n",
      "ph056.json\n",
      "ph057.json\n",
      "ph058.json\n",
      "ph059.json\n"
     ]
    }
   ],
   "source": [
    "import os\n",
    "\n",
    "#获取文件名字\n",
    "files = os.listdir(r'result\\parkinghotspot')\n",
    "\n",
    "#读取文件\n",
    "data = []\n",
    "for i in files:\n",
    "    print(i)\n",
    "    tmp = geopandas.read_file(r'result\\parkinghotspot\\\\'+i)\n",
    "    tmp['from'] = i     #保留文件名groupby\n",
    "    data.append(tmp)\n",
    "\n",
    "data = pd.concat(data)"
   ]
  },
  {
   "cell_type": "code",
   "execution_count": 3,
   "metadata": {
    "ExecuteTime": {
     "end_time": "2022-03-13T03:11:31.215693Z",
     "start_time": "2022-03-13T03:11:27.870906Z"
    }
   },
   "outputs": [],
   "source": [
    "datas = data[['from', 'time', 'group', 'radius', 'x', 'y']]\n",
    "datas['geometry'] = geopandas.points_from_xy(datas['x'], datas['y'])\n",
    "datas = geopandas.GeoDataFrame(datas)\n",
    "\n",
    "datas = datas.set_crs(\"EPSG:4326\")\n",
    "datas['x'] = datas.to_crs(\"EPSG:2416\")['geometry'].x\n",
    "datas['y'] = datas.to_crs(\"EPSG:2416\")['geometry'].y"
   ]
  },
  {
   "cell_type": "code",
   "execution_count": 4,
   "metadata": {
    "ExecuteTime": {
     "end_time": "2022-03-13T03:11:36.675647Z",
     "start_time": "2022-03-13T03:11:36.638716Z"
    }
   },
   "outputs": [
    {
     "data": {
      "text/html": [
       "<div>\n",
       "<style scoped>\n",
       "    .dataframe tbody tr th:only-of-type {\n",
       "        vertical-align: middle;\n",
       "    }\n",
       "\n",
       "    .dataframe tbody tr th {\n",
       "        vertical-align: top;\n",
       "    }\n",
       "\n",
       "    .dataframe thead th {\n",
       "        text-align: right;\n",
       "    }\n",
       "</style>\n",
       "<table border=\"1\" class=\"dataframe\">\n",
       "  <thead>\n",
       "    <tr style=\"text-align: right;\">\n",
       "      <th></th>\n",
       "      <th>from</th>\n",
       "      <th>time</th>\n",
       "      <th>group</th>\n",
       "      <th>radius</th>\n",
       "      <th>x</th>\n",
       "      <th>y</th>\n",
       "      <th>geometry</th>\n",
       "    </tr>\n",
       "  </thead>\n",
       "  <tbody>\n",
       "    <tr>\n",
       "      <th>0</th>\n",
       "      <td>ph0510.json</td>\n",
       "      <td>2019-05-10T06:00:00</td>\n",
       "      <td>0</td>\n",
       "      <td>520.13</td>\n",
       "      <td>4.064138e+07</td>\n",
       "      <td>3.460555e+06</td>\n",
       "      <td>POINT (121.48495 31.25787)</td>\n",
       "    </tr>\n",
       "    <tr>\n",
       "      <th>1</th>\n",
       "      <td>ph0510.json</td>\n",
       "      <td>2019-05-10T06:00:00</td>\n",
       "      <td>1</td>\n",
       "      <td>379.71</td>\n",
       "      <td>4.063286e+07</td>\n",
       "      <td>3.451007e+06</td>\n",
       "      <td>POINT (121.39357 31.17259)</td>\n",
       "    </tr>\n",
       "    <tr>\n",
       "      <th>2</th>\n",
       "      <td>ph0510.json</td>\n",
       "      <td>2019-05-10T06:00:00</td>\n",
       "      <td>2</td>\n",
       "      <td>286.73</td>\n",
       "      <td>4.063178e+07</td>\n",
       "      <td>3.461918e+06</td>\n",
       "      <td>POINT (121.38436 31.27128)</td>\n",
       "    </tr>\n",
       "    <tr>\n",
       "      <th>3</th>\n",
       "      <td>ph0510.json</td>\n",
       "      <td>2019-05-10T06:00:00</td>\n",
       "      <td>3</td>\n",
       "      <td>2156.79</td>\n",
       "      <td>4.063613e+07</td>\n",
       "      <td>3.457851e+06</td>\n",
       "      <td>POINT (121.42951 31.23411)</td>\n",
       "    </tr>\n",
       "    <tr>\n",
       "      <th>4</th>\n",
       "      <td>ph0510.json</td>\n",
       "      <td>2019-05-10T06:00:00</td>\n",
       "      <td>4</td>\n",
       "      <td>884.73</td>\n",
       "      <td>4.064434e+07</td>\n",
       "      <td>3.456942e+06</td>\n",
       "      <td>POINT (121.51485 31.22473)</td>\n",
       "    </tr>\n",
       "  </tbody>\n",
       "</table>\n",
       "</div>"
      ],
      "text/plain": [
       "          from                 time  group   radius             x  \\\n",
       "0  ph0510.json  2019-05-10T06:00:00      0   520.13  4.064138e+07   \n",
       "1  ph0510.json  2019-05-10T06:00:00      1   379.71  4.063286e+07   \n",
       "2  ph0510.json  2019-05-10T06:00:00      2   286.73  4.063178e+07   \n",
       "3  ph0510.json  2019-05-10T06:00:00      3  2156.79  4.063613e+07   \n",
       "4  ph0510.json  2019-05-10T06:00:00      4   884.73  4.064434e+07   \n",
       "\n",
       "              y                    geometry  \n",
       "0  3.460555e+06  POINT (121.48495 31.25787)  \n",
       "1  3.451007e+06  POINT (121.39357 31.17259)  \n",
       "2  3.461918e+06  POINT (121.38436 31.27128)  \n",
       "3  3.457851e+06  POINT (121.42951 31.23411)  \n",
       "4  3.456942e+06  POINT (121.51485 31.22473)  "
      ]
     },
     "execution_count": 4,
     "metadata": {},
     "output_type": "execute_result"
    }
   ],
   "source": [
    "datas.head()"
   ]
  },
  {
   "cell_type": "code",
   "execution_count": 10,
   "metadata": {
    "ExecuteTime": {
     "end_time": "2022-03-13T03:12:37.670148Z",
     "start_time": "2022-03-13T03:12:37.661172Z"
    }
   },
   "outputs": [
    {
     "data": {
      "text/plain": [
       "23605"
      ]
     },
     "execution_count": 10,
     "metadata": {},
     "output_type": "execute_result"
    }
   ],
   "source": [
    "len(datas)"
   ]
  },
  {
   "cell_type": "markdown",
   "metadata": {},
   "source": [
    "# 聚合"
   ]
  },
  {
   "cell_type": "markdown",
   "metadata": {},
   "source": [
    "## DBSCAN"
   ]
  },
  {
   "cell_type": "code",
   "execution_count": 6,
   "metadata": {
    "ExecuteTime": {
     "end_time": "2022-03-13T03:11:41.840432Z",
     "start_time": "2022-03-13T03:11:41.813983Z"
    }
   },
   "outputs": [],
   "source": [
    "test = datas.copy()"
   ]
  },
  {
   "cell_type": "code",
   "execution_count": 7,
   "metadata": {
    "ExecuteTime": {
     "end_time": "2022-03-13T03:11:46.207667Z",
     "start_time": "2022-03-13T03:11:43.881954Z"
    }
   },
   "outputs": [
    {
     "name": "stdout",
     "output_type": "stream",
     "text": [
      "number of clusters: 922\n"
     ]
    }
   ],
   "source": [
    "from sklearn.cluster import DBSCAN\n",
    "\n",
    "model = DBSCAN(eps=50, min_samples=3)\n",
    "\n",
    "model.fit(test[['x', 'y']].values)\n",
    "\n",
    "# 得到DBSCAN预测的分类便签\n",
    "labels = model.labels_\n",
    "\n",
    "# Number of clusters in labels, ignoring noise if present.\n",
    "n_clusters_ = len(set(labels)) - (1 if -1 in labels else 0)\n",
    "\n",
    "test['group'] = labels\n",
    "\n",
    "print('number of clusters: %d' % n_clusters_)"
   ]
  },
  {
   "cell_type": "code",
   "execution_count": 8,
   "metadata": {
    "ExecuteTime": {
     "end_time": "2022-03-13T03:11:57.588053Z",
     "start_time": "2022-03-13T03:11:57.140163Z"
    }
   },
   "outputs": [],
   "source": [
    "test = test[test['group']!=-1]\n",
    "\n",
    "# 各热点区域的中心点经纬度，同 test.centroid.x, test.centroid.y\n",
    "test['x'] = test['geometry'].x\n",
    "test['y'] = test['geometry'].y"
   ]
  },
  {
   "cell_type": "code",
   "execution_count": 9,
   "metadata": {
    "ExecuteTime": {
     "end_time": "2022-03-13T03:12:02.614113Z",
     "start_time": "2022-03-13T03:12:02.549080Z"
    }
   },
   "outputs": [
    {
     "data": {
      "text/html": [
       "<div>\n",
       "<style scoped>\n",
       "    .dataframe tbody tr th:only-of-type {\n",
       "        vertical-align: middle;\n",
       "    }\n",
       "\n",
       "    .dataframe tbody tr th {\n",
       "        vertical-align: top;\n",
       "    }\n",
       "\n",
       "    .dataframe thead th {\n",
       "        text-align: right;\n",
       "    }\n",
       "</style>\n",
       "<table border=\"1\" class=\"dataframe\">\n",
       "  <thead>\n",
       "    <tr style=\"text-align: right;\">\n",
       "      <th></th>\n",
       "      <th>from</th>\n",
       "      <th>time</th>\n",
       "      <th>group</th>\n",
       "      <th>radius</th>\n",
       "      <th>x</th>\n",
       "      <th>y</th>\n",
       "      <th>geometry</th>\n",
       "    </tr>\n",
       "  </thead>\n",
       "  <tbody>\n",
       "    <tr>\n",
       "      <th>0</th>\n",
       "      <td>ph0510.json</td>\n",
       "      <td>2019-05-10T06:00:00</td>\n",
       "      <td>0</td>\n",
       "      <td>520.13</td>\n",
       "      <td>121.484954</td>\n",
       "      <td>31.257873</td>\n",
       "      <td>POINT (121.48495 31.25787)</td>\n",
       "    </tr>\n",
       "    <tr>\n",
       "      <th>1</th>\n",
       "      <td>ph0510.json</td>\n",
       "      <td>2019-05-10T06:00:00</td>\n",
       "      <td>1</td>\n",
       "      <td>379.71</td>\n",
       "      <td>121.393573</td>\n",
       "      <td>31.172592</td>\n",
       "      <td>POINT (121.39357 31.17259)</td>\n",
       "    </tr>\n",
       "    <tr>\n",
       "      <th>2</th>\n",
       "      <td>ph0510.json</td>\n",
       "      <td>2019-05-10T06:00:00</td>\n",
       "      <td>2</td>\n",
       "      <td>286.73</td>\n",
       "      <td>121.384359</td>\n",
       "      <td>31.271281</td>\n",
       "      <td>POINT (121.38436 31.27128)</td>\n",
       "    </tr>\n",
       "    <tr>\n",
       "      <th>4</th>\n",
       "      <td>ph0510.json</td>\n",
       "      <td>2019-05-10T06:00:00</td>\n",
       "      <td>3</td>\n",
       "      <td>884.73</td>\n",
       "      <td>121.514846</td>\n",
       "      <td>31.224733</td>\n",
       "      <td>POINT (121.51485 31.22473)</td>\n",
       "    </tr>\n",
       "    <tr>\n",
       "      <th>5</th>\n",
       "      <td>ph0510.json</td>\n",
       "      <td>2019-05-10T06:00:00</td>\n",
       "      <td>4</td>\n",
       "      <td>401.05</td>\n",
       "      <td>121.433303</td>\n",
       "      <td>31.164949</td>\n",
       "      <td>POINT (121.43330 31.16495)</td>\n",
       "    </tr>\n",
       "    <tr>\n",
       "      <th>...</th>\n",
       "      <td>...</td>\n",
       "      <td>...</td>\n",
       "      <td>...</td>\n",
       "      <td>...</td>\n",
       "      <td>...</td>\n",
       "      <td>...</td>\n",
       "      <td>...</td>\n",
       "    </tr>\n",
       "    <tr>\n",
       "      <th>3394</th>\n",
       "      <td>ph059.json</td>\n",
       "      <td>2019-05-09T23:00:00</td>\n",
       "      <td>155</td>\n",
       "      <td>152.29</td>\n",
       "      <td>121.381150</td>\n",
       "      <td>31.173798</td>\n",
       "      <td>POINT (121.38115 31.17380)</td>\n",
       "    </tr>\n",
       "    <tr>\n",
       "      <th>3395</th>\n",
       "      <td>ph059.json</td>\n",
       "      <td>2019-05-09T23:00:00</td>\n",
       "      <td>150</td>\n",
       "      <td>178.41</td>\n",
       "      <td>121.424136</td>\n",
       "      <td>31.161319</td>\n",
       "      <td>POINT (121.42414 31.16132)</td>\n",
       "    </tr>\n",
       "    <tr>\n",
       "      <th>3396</th>\n",
       "      <td>ph059.json</td>\n",
       "      <td>2019-05-09T23:00:00</td>\n",
       "      <td>105</td>\n",
       "      <td>152.62</td>\n",
       "      <td>121.426305</td>\n",
       "      <td>31.163320</td>\n",
       "      <td>POINT (121.42630 31.16332)</td>\n",
       "    </tr>\n",
       "    <tr>\n",
       "      <th>3397</th>\n",
       "      <td>ph059.json</td>\n",
       "      <td>2019-05-09T23:00:00</td>\n",
       "      <td>864</td>\n",
       "      <td>167.17</td>\n",
       "      <td>121.437512</td>\n",
       "      <td>31.179207</td>\n",
       "      <td>POINT (121.43751 31.17921)</td>\n",
       "    </tr>\n",
       "    <tr>\n",
       "      <th>3398</th>\n",
       "      <td>ph059.json</td>\n",
       "      <td>2019-05-09T23:00:00</td>\n",
       "      <td>114</td>\n",
       "      <td>164.17</td>\n",
       "      <td>121.474298</td>\n",
       "      <td>31.287325</td>\n",
       "      <td>POINT (121.47430 31.28732)</td>\n",
       "    </tr>\n",
       "  </tbody>\n",
       "</table>\n",
       "<p>22156 rows × 7 columns</p>\n",
       "</div>"
      ],
      "text/plain": [
       "             from                 time  group  radius           x          y  \\\n",
       "0     ph0510.json  2019-05-10T06:00:00      0  520.13  121.484954  31.257873   \n",
       "1     ph0510.json  2019-05-10T06:00:00      1  379.71  121.393573  31.172592   \n",
       "2     ph0510.json  2019-05-10T06:00:00      2  286.73  121.384359  31.271281   \n",
       "4     ph0510.json  2019-05-10T06:00:00      3  884.73  121.514846  31.224733   \n",
       "5     ph0510.json  2019-05-10T06:00:00      4  401.05  121.433303  31.164949   \n",
       "...           ...                  ...    ...     ...         ...        ...   \n",
       "3394   ph059.json  2019-05-09T23:00:00    155  152.29  121.381150  31.173798   \n",
       "3395   ph059.json  2019-05-09T23:00:00    150  178.41  121.424136  31.161319   \n",
       "3396   ph059.json  2019-05-09T23:00:00    105  152.62  121.426305  31.163320   \n",
       "3397   ph059.json  2019-05-09T23:00:00    864  167.17  121.437512  31.179207   \n",
       "3398   ph059.json  2019-05-09T23:00:00    114  164.17  121.474298  31.287325   \n",
       "\n",
       "                        geometry  \n",
       "0     POINT (121.48495 31.25787)  \n",
       "1     POINT (121.39357 31.17259)  \n",
       "2     POINT (121.38436 31.27128)  \n",
       "4     POINT (121.51485 31.22473)  \n",
       "5     POINT (121.43330 31.16495)  \n",
       "...                          ...  \n",
       "3394  POINT (121.38115 31.17380)  \n",
       "3395  POINT (121.42414 31.16132)  \n",
       "3396  POINT (121.42630 31.16332)  \n",
       "3397  POINT (121.43751 31.17921)  \n",
       "3398  POINT (121.47430 31.28732)  \n",
       "\n",
       "[22156 rows x 7 columns]"
      ]
     },
     "execution_count": 9,
     "metadata": {},
     "output_type": "execute_result"
    }
   ],
   "source": [
    "test"
   ]
  },
  {
   "cell_type": "code",
   "execution_count": 11,
   "metadata": {
    "ExecuteTime": {
     "end_time": "2022-03-13T03:13:50.329853Z",
     "start_time": "2022-03-13T03:13:47.944826Z"
    }
   },
   "outputs": [],
   "source": [
    "test.to_file(r'result\\CenterPoint.json', driver='GeoJSON')"
   ]
  },
  {
   "cell_type": "markdown",
   "metadata": {},
   "source": [
    "## 用各簇的中心点、当量半径绘制圆形区域"
   ]
  },
  {
   "cell_type": "code",
   "execution_count": 14,
   "metadata": {
    "ExecuteTime": {
     "end_time": "2022-03-13T03:19:17.909224Z",
     "start_time": "2022-03-13T03:19:17.882331Z"
    }
   },
   "outputs": [
    {
     "data": {
      "text/html": [
       "<div>\n",
       "<style scoped>\n",
       "    .dataframe tbody tr th:only-of-type {\n",
       "        vertical-align: middle;\n",
       "    }\n",
       "\n",
       "    .dataframe tbody tr th {\n",
       "        vertical-align: top;\n",
       "    }\n",
       "\n",
       "    .dataframe thead th {\n",
       "        text-align: right;\n",
       "    }\n",
       "</style>\n",
       "<table border=\"1\" class=\"dataframe\">\n",
       "  <thead>\n",
       "    <tr style=\"text-align: right;\">\n",
       "      <th></th>\n",
       "      <th>group</th>\n",
       "      <th>radius</th>\n",
       "    </tr>\n",
       "  </thead>\n",
       "  <tbody>\n",
       "    <tr>\n",
       "      <th>0</th>\n",
       "      <td>0</td>\n",
       "      <td>537.15</td>\n",
       "    </tr>\n",
       "    <tr>\n",
       "      <th>1</th>\n",
       "      <td>1</td>\n",
       "      <td>354.80</td>\n",
       "    </tr>\n",
       "    <tr>\n",
       "      <th>2</th>\n",
       "      <td>2</td>\n",
       "      <td>350.95</td>\n",
       "    </tr>\n",
       "    <tr>\n",
       "      <th>3</th>\n",
       "      <td>3</td>\n",
       "      <td>886.77</td>\n",
       "    </tr>\n",
       "    <tr>\n",
       "      <th>4</th>\n",
       "      <td>4</td>\n",
       "      <td>379.39</td>\n",
       "    </tr>\n",
       "    <tr>\n",
       "      <th>...</th>\n",
       "      <td>...</td>\n",
       "      <td>...</td>\n",
       "    </tr>\n",
       "    <tr>\n",
       "      <th>917</th>\n",
       "      <td>917</td>\n",
       "      <td>159.02</td>\n",
       "    </tr>\n",
       "    <tr>\n",
       "      <th>918</th>\n",
       "      <td>918</td>\n",
       "      <td>1480.56</td>\n",
       "    </tr>\n",
       "    <tr>\n",
       "      <th>919</th>\n",
       "      <td>919</td>\n",
       "      <td>181.00</td>\n",
       "    </tr>\n",
       "    <tr>\n",
       "      <th>920</th>\n",
       "      <td>920</td>\n",
       "      <td>285.31</td>\n",
       "    </tr>\n",
       "    <tr>\n",
       "      <th>921</th>\n",
       "      <td>921</td>\n",
       "      <td>178.43</td>\n",
       "    </tr>\n",
       "  </tbody>\n",
       "</table>\n",
       "<p>922 rows × 2 columns</p>\n",
       "</div>"
      ],
      "text/plain": [
       "     group   radius\n",
       "0        0   537.15\n",
       "1        1   354.80\n",
       "2        2   350.95\n",
       "3        3   886.77\n",
       "4        4   379.39\n",
       "..     ...      ...\n",
       "917    917   159.02\n",
       "918    918  1480.56\n",
       "919    919   181.00\n",
       "920    920   285.31\n",
       "921    921   178.43\n",
       "\n",
       "[922 rows x 2 columns]"
      ]
     },
     "execution_count": 14,
     "metadata": {},
     "output_type": "execute_result"
    }
   ],
   "source": [
    "test.groupby(['group'])['radius'].quantile(0.5).reset_index()"
   ]
  },
  {
   "cell_type": "code",
   "execution_count": 15,
   "metadata": {
    "ExecuteTime": {
     "end_time": "2022-03-13T03:19:40.042661Z",
     "start_time": "2022-03-13T03:19:40.016525Z"
    }
   },
   "outputs": [
    {
     "data": {
      "text/html": [
       "<div>\n",
       "<style scoped>\n",
       "    .dataframe tbody tr th:only-of-type {\n",
       "        vertical-align: middle;\n",
       "    }\n",
       "\n",
       "    .dataframe tbody tr th {\n",
       "        vertical-align: top;\n",
       "    }\n",
       "\n",
       "    .dataframe thead th {\n",
       "        text-align: right;\n",
       "    }\n",
       "</style>\n",
       "<table border=\"1\" class=\"dataframe\">\n",
       "  <thead>\n",
       "    <tr style=\"text-align: right;\">\n",
       "      <th></th>\n",
       "      <th>group</th>\n",
       "      <th>radius</th>\n",
       "    </tr>\n",
       "  </thead>\n",
       "  <tbody>\n",
       "    <tr>\n",
       "      <th>0</th>\n",
       "      <td>0</td>\n",
       "      <td>533.825714</td>\n",
       "    </tr>\n",
       "    <tr>\n",
       "      <th>1</th>\n",
       "      <td>1</td>\n",
       "      <td>325.498171</td>\n",
       "    </tr>\n",
       "    <tr>\n",
       "      <th>2</th>\n",
       "      <td>2</td>\n",
       "      <td>344.281681</td>\n",
       "    </tr>\n",
       "    <tr>\n",
       "      <th>3</th>\n",
       "      <td>3</td>\n",
       "      <td>891.441333</td>\n",
       "    </tr>\n",
       "    <tr>\n",
       "      <th>4</th>\n",
       "      <td>4</td>\n",
       "      <td>369.523077</td>\n",
       "    </tr>\n",
       "    <tr>\n",
       "      <th>...</th>\n",
       "      <td>...</td>\n",
       "      <td>...</td>\n",
       "    </tr>\n",
       "    <tr>\n",
       "      <th>917</th>\n",
       "      <td>917</td>\n",
       "      <td>162.506000</td>\n",
       "    </tr>\n",
       "    <tr>\n",
       "      <th>918</th>\n",
       "      <td>918</td>\n",
       "      <td>1472.403333</td>\n",
       "    </tr>\n",
       "    <tr>\n",
       "      <th>919</th>\n",
       "      <td>919</td>\n",
       "      <td>180.420000</td>\n",
       "    </tr>\n",
       "    <tr>\n",
       "      <th>920</th>\n",
       "      <td>920</td>\n",
       "      <td>305.910000</td>\n",
       "    </tr>\n",
       "    <tr>\n",
       "      <th>921</th>\n",
       "      <td>921</td>\n",
       "      <td>191.323333</td>\n",
       "    </tr>\n",
       "  </tbody>\n",
       "</table>\n",
       "<p>922 rows × 2 columns</p>\n",
       "</div>"
      ],
      "text/plain": [
       "     group       radius\n",
       "0        0   533.825714\n",
       "1        1   325.498171\n",
       "2        2   344.281681\n",
       "3        3   891.441333\n",
       "4        4   369.523077\n",
       "..     ...          ...\n",
       "917    917   162.506000\n",
       "918    918  1472.403333\n",
       "919    919   180.420000\n",
       "920    920   305.910000\n",
       "921    921   191.323333\n",
       "\n",
       "[922 rows x 2 columns]"
      ]
     },
     "execution_count": 15,
     "metadata": {},
     "output_type": "execute_result"
    }
   ],
   "source": [
    "test.groupby(['group'])['radius'].mean().reset_index()"
   ]
  },
  {
   "cell_type": "code",
   "execution_count": 13,
   "metadata": {
    "ExecuteTime": {
     "end_time": "2022-03-09T12:09:58.660458Z",
     "start_time": "2022-03-09T12:09:58.648493Z"
    }
   },
   "outputs": [],
   "source": [
    "# 各簇的中心点\n",
    "cenx = test.groupby(['group'])['x'].mean().reset_index()\n",
    "ceny = test.groupby(['group'])['y'].mean().reset_index()\n",
    "\n",
    "# 各簇的平均当量半径\n",
    "# 这里是否要使用中位数而不是平均值？平均值受极值影响较大\n",
    "radius = test.groupby(['group'])['radius'].mean().reset_index()"
   ]
  },
  {
   "cell_type": "code",
   "execution_count": 14,
   "metadata": {
    "ExecuteTime": {
     "end_time": "2022-03-09T12:10:39.519781Z",
     "start_time": "2022-03-09T12:10:38.899189Z"
    }
   },
   "outputs": [],
   "source": [
    "from shapely.geometry import Point,Polygon,shape\n",
    "\n",
    "\n",
    "res = pd.concat([cenx, ceny[['y']], radius[['radius']]], axis=1)\n",
    "res = geopandas.GeoDataFrame(res)\n",
    "res['geometry'] = geopandas.points_from_xy(res['x'], res['y'])\n",
    "res = res.set_crs('EPSG:4326')\n",
    "res = res.to_crs('EPSG:2416')\n",
    "\n",
    "res['x'] = res.to_crs(\"EPSG:2416\")['geometry'].x\n",
    "res['y'] = res.to_crs(\"EPSG:2416\")['geometry'].y\n",
    "\n",
    "geometry = res.apply(lambda r: r['geometry'].buffer(r['radius']), axis=1)\n",
    "\n",
    "res['geometry'] = geometry\n",
    "res = res.to_crs('EPSG:4326')"
   ]
  },
  {
   "cell_type": "code",
   "execution_count": 15,
   "metadata": {
    "ExecuteTime": {
     "end_time": "2022-03-09T12:11:53.641779Z",
     "start_time": "2022-03-09T12:11:53.084176Z"
    }
   },
   "outputs": [],
   "source": [
    "res.to_file(r'result\\researchObject_overlap.json', driver='GeoJSON')"
   ]
  },
  {
   "cell_type": "markdown",
   "metadata": {},
   "source": [
    "## 去重"
   ]
  },
  {
   "cell_type": "markdown",
   "metadata": {},
   "source": [
    "researchObject_overlap.json --> researchObject.geojson"
   ]
  }
 ],
 "metadata": {
  "kernelspec": {
   "display_name": "Python 3.8.5 64-bit ('base': conda)",
   "language": "python",
   "name": "python38564bitbasecondacf347245066f468a88d170b765efaa0c"
  },
  "language_info": {
   "codemirror_mode": {
    "name": "ipython",
    "version": 3
   },
   "file_extension": ".py",
   "mimetype": "text/x-python",
   "name": "python",
   "nbconvert_exporter": "python",
   "pygments_lexer": "ipython3",
   "version": "3.8.5"
  },
  "toc": {
   "base_numbering": 1,
   "nav_menu": {},
   "number_sections": true,
   "sideBar": true,
   "skip_h1_title": false,
   "title_cell": "Table of Contents",
   "title_sidebar": "Contents",
   "toc_cell": false,
   "toc_position": {},
   "toc_section_display": true,
   "toc_window_display": true
  }
 },
 "nbformat": 4,
 "nbformat_minor": 4
}
