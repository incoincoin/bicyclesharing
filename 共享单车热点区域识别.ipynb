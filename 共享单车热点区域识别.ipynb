{
 "cells": [
  {
   "cell_type": "markdown",
   "metadata": {},
   "source": [
    "# 热点区域的定义"
   ]
  },
  {
   "cell_type": "markdown",
   "metadata": {},
   "source": [
    "取车热点区域：在一个时间窗内，取车点在空间聚集的区域。\n",
    "\n",
    "还车热点区域：在一个时间窗内，还车点在空间聚集的区域。\n",
    "\n",
    "停放单车热点区域：在一个时间点，处于停放状态的单车在空间聚集的区域。"
   ]
  },
  {
   "cell_type": "code",
   "execution_count": 1,
   "metadata": {
    "ExecuteTime": {
     "end_time": "2022-03-08T11:50:30.008460Z",
     "start_time": "2022-03-08T11:50:28.871696Z"
    }
   },
   "outputs": [],
   "source": [
    "import pandas as pd\n",
    "import geopandas\n",
    "import transbigdata as tbd"
   ]
  },
  {
   "cell_type": "code",
   "execution_count": 2,
   "metadata": {
    "ExecuteTime": {
     "end_time": "2022-03-08T11:51:18.837334Z",
     "start_time": "2022-03-08T11:50:50.034781Z"
    }
   },
   "outputs": [],
   "source": [
    "move_data = pd.read_csv(r'E:\\data\\1 上海共享单车2019\\move_data.csv')\n",
    "stop_data = pd.read_csv(r'E:\\data\\1 上海共享单车2019\\stop_data.csv')"
   ]
  },
  {
   "cell_type": "code",
   "execution_count": 3,
   "metadata": {
    "ExecuteTime": {
     "end_time": "2022-03-08T11:51:29.519508Z",
     "start_time": "2022-03-08T11:51:29.485600Z"
    }
   },
   "outputs": [
    {
     "data": {
      "text/html": [
       "<div>\n",
       "<style scoped>\n",
       "    .dataframe tbody tr th:only-of-type {\n",
       "        vertical-align: middle;\n",
       "    }\n",
       "\n",
       "    .dataframe tbody tr th {\n",
       "        vertical-align: top;\n",
       "    }\n",
       "\n",
       "    .dataframe thead th {\n",
       "        text-align: right;\n",
       "    }\n",
       "</style>\n",
       "<table border=\"1\" class=\"dataframe\">\n",
       "  <thead>\n",
       "    <tr style=\"text-align: right;\">\n",
       "      <th></th>\n",
       "      <th>BIKE_ID</th>\n",
       "      <th>stime</th>\n",
       "      <th>slon</th>\n",
       "      <th>slat</th>\n",
       "      <th>etime</th>\n",
       "      <th>elon</th>\n",
       "      <th>elat</th>\n",
       "    </tr>\n",
       "  </thead>\n",
       "  <tbody>\n",
       "    <tr>\n",
       "      <th>0</th>\n",
       "      <td>0</td>\n",
       "      <td>2019-05-06 06:41:33</td>\n",
       "      <td>121.470761</td>\n",
       "      <td>31.260999</td>\n",
       "      <td>2019-05-06 06:46:24</td>\n",
       "      <td>121.464820</td>\n",
       "      <td>31.255403</td>\n",
       "    </tr>\n",
       "    <tr>\n",
       "      <th>1</th>\n",
       "      <td>0</td>\n",
       "      <td>2019-05-06 07:16:55</td>\n",
       "      <td>121.464294</td>\n",
       "      <td>31.254926</td>\n",
       "      <td>2019-05-06 07:24:10</td>\n",
       "      <td>121.455562</td>\n",
       "      <td>31.255618</td>\n",
       "    </tr>\n",
       "    <tr>\n",
       "      <th>2</th>\n",
       "      <td>0</td>\n",
       "      <td>2019-05-06 07:48:50</td>\n",
       "      <td>121.455567</td>\n",
       "      <td>31.255606</td>\n",
       "      <td>2019-05-06 08:05:15</td>\n",
       "      <td>121.431458</td>\n",
       "      <td>31.244208</td>\n",
       "    </tr>\n",
       "    <tr>\n",
       "      <th>3</th>\n",
       "      <td>0</td>\n",
       "      <td>2019-05-06 09:11:51</td>\n",
       "      <td>121.431436</td>\n",
       "      <td>31.244420</td>\n",
       "      <td>2019-05-06 09:25:27</td>\n",
       "      <td>121.452108</td>\n",
       "      <td>31.243948</td>\n",
       "    </tr>\n",
       "    <tr>\n",
       "      <th>4</th>\n",
       "      <td>0</td>\n",
       "      <td>2019-05-06 13:21:27</td>\n",
       "      <td>121.451857</td>\n",
       "      <td>31.243207</td>\n",
       "      <td>2019-05-06 13:31:44</td>\n",
       "      <td>121.431198</td>\n",
       "      <td>31.244091</td>\n",
       "    </tr>\n",
       "  </tbody>\n",
       "</table>\n",
       "</div>"
      ],
      "text/plain": [
       "   BIKE_ID                stime        slon       slat                etime  \\\n",
       "0        0  2019-05-06 06:41:33  121.470761  31.260999  2019-05-06 06:46:24   \n",
       "1        0  2019-05-06 07:16:55  121.464294  31.254926  2019-05-06 07:24:10   \n",
       "2        0  2019-05-06 07:48:50  121.455567  31.255606  2019-05-06 08:05:15   \n",
       "3        0  2019-05-06 09:11:51  121.431436  31.244420  2019-05-06 09:25:27   \n",
       "4        0  2019-05-06 13:21:27  121.451857  31.243207  2019-05-06 13:31:44   \n",
       "\n",
       "         elon       elat  \n",
       "0  121.464820  31.255403  \n",
       "1  121.455562  31.255618  \n",
       "2  121.431458  31.244208  \n",
       "3  121.452108  31.243948  \n",
       "4  121.431198  31.244091  "
      ]
     },
     "execution_count": 3,
     "metadata": {},
     "output_type": "execute_result"
    }
   ],
   "source": [
    "move_data.head()"
   ]
  },
  {
   "cell_type": "code",
   "execution_count": 4,
   "metadata": {
    "ExecuteTime": {
     "end_time": "2022-03-08T11:51:34.692870Z",
     "start_time": "2022-03-08T11:51:34.669719Z"
    }
   },
   "outputs": [
    {
     "data": {
      "text/html": [
       "<div>\n",
       "<style scoped>\n",
       "    .dataframe tbody tr th:only-of-type {\n",
       "        vertical-align: middle;\n",
       "    }\n",
       "\n",
       "    .dataframe tbody tr th {\n",
       "        vertical-align: top;\n",
       "    }\n",
       "\n",
       "    .dataframe thead th {\n",
       "        text-align: right;\n",
       "    }\n",
       "</style>\n",
       "<table border=\"1\" class=\"dataframe\">\n",
       "  <thead>\n",
       "    <tr style=\"text-align: right;\">\n",
       "      <th></th>\n",
       "      <th>BIKE_ID</th>\n",
       "      <th>stime</th>\n",
       "      <th>slon</th>\n",
       "      <th>slat</th>\n",
       "      <th>etime</th>\n",
       "      <th>elon</th>\n",
       "      <th>elat</th>\n",
       "    </tr>\n",
       "  </thead>\n",
       "  <tbody>\n",
       "    <tr>\n",
       "      <th>0</th>\n",
       "      <td>0</td>\n",
       "      <td>2019-05-06 00:00:00</td>\n",
       "      <td>121.470761</td>\n",
       "      <td>31.260999</td>\n",
       "      <td>2019-05-06 06:41:33</td>\n",
       "      <td>121.470761</td>\n",
       "      <td>31.260999</td>\n",
       "    </tr>\n",
       "    <tr>\n",
       "      <th>1</th>\n",
       "      <td>0</td>\n",
       "      <td>2019-05-07 20:57:54</td>\n",
       "      <td>121.401901</td>\n",
       "      <td>31.242309</td>\n",
       "      <td>2019-05-12 23:59:59</td>\n",
       "      <td>121.401901</td>\n",
       "      <td>31.242309</td>\n",
       "    </tr>\n",
       "    <tr>\n",
       "      <th>2</th>\n",
       "      <td>0</td>\n",
       "      <td>2019-05-06 06:46:24</td>\n",
       "      <td>121.464820</td>\n",
       "      <td>31.255403</td>\n",
       "      <td>2019-05-06 07:16:55</td>\n",
       "      <td>121.464294</td>\n",
       "      <td>31.254926</td>\n",
       "    </tr>\n",
       "    <tr>\n",
       "      <th>3</th>\n",
       "      <td>0</td>\n",
       "      <td>2019-05-06 07:24:10</td>\n",
       "      <td>121.455562</td>\n",
       "      <td>31.255618</td>\n",
       "      <td>2019-05-06 07:48:50</td>\n",
       "      <td>121.455567</td>\n",
       "      <td>31.255606</td>\n",
       "    </tr>\n",
       "    <tr>\n",
       "      <th>4</th>\n",
       "      <td>0</td>\n",
       "      <td>2019-05-06 08:05:15</td>\n",
       "      <td>121.431458</td>\n",
       "      <td>31.244208</td>\n",
       "      <td>2019-05-06 09:11:51</td>\n",
       "      <td>121.431436</td>\n",
       "      <td>31.244420</td>\n",
       "    </tr>\n",
       "  </tbody>\n",
       "</table>\n",
       "</div>"
      ],
      "text/plain": [
       "   BIKE_ID                stime        slon       slat                etime  \\\n",
       "0        0  2019-05-06 00:00:00  121.470761  31.260999  2019-05-06 06:41:33   \n",
       "1        0  2019-05-07 20:57:54  121.401901  31.242309  2019-05-12 23:59:59   \n",
       "2        0  2019-05-06 06:46:24  121.464820  31.255403  2019-05-06 07:16:55   \n",
       "3        0  2019-05-06 07:24:10  121.455562  31.255618  2019-05-06 07:48:50   \n",
       "4        0  2019-05-06 08:05:15  121.431458  31.244208  2019-05-06 09:11:51   \n",
       "\n",
       "         elon       elat  \n",
       "0  121.470761  31.260999  \n",
       "1  121.401901  31.242309  \n",
       "2  121.464294  31.254926  \n",
       "3  121.455567  31.255606  \n",
       "4  121.431436  31.244420  "
      ]
     },
     "execution_count": 4,
     "metadata": {},
     "output_type": "execute_result"
    }
   ],
   "source": [
    "stop_data.head()"
   ]
  },
  {
   "cell_type": "markdown",
   "metadata": {},
   "source": [
    "# 热点区域的订单数据提取"
   ]
  },
  {
   "cell_type": "markdown",
   "metadata": {},
   "source": [
    "## 取车热点区域"
   ]
  },
  {
   "cell_type": "code",
   "execution_count": 5,
   "metadata": {
    "ExecuteTime": {
     "end_time": "2022-03-08T11:51:44.002878Z",
     "start_time": "2022-03-08T11:51:43.993913Z"
    }
   },
   "outputs": [],
   "source": [
    "def pickupDataProcess(move_data, startT, endT):\n",
    "    \"\"\"输入一周的单车移动数据，指定的日期与指定的时刻\"\"\"\n",
    "    \"\"\"输出该日期该时间切片内取车pickup位置\"\"\"\n",
    "\n",
    "    data = move_data[(move_data['stime'] < endT) &\n",
    "                     (move_data['stime'] >= startT)]\n",
    "    data = data[['slon', 'slat']]\n",
    "\n",
    "    data['geometry'] = geopandas.points_from_xy(data['slon'], data['slat'])\n",
    "\n",
    "    data = geopandas.GeoDataFrame(data)\n",
    "    data = data.set_crs('EPSG:4326')\n",
    "    data = data.to_crs('EPSG:2416')\n",
    "\n",
    "    data['x'] = data.geometry.x\n",
    "    data['y'] = data.geometry.y\n",
    "\n",
    "    data = data.to_crs('EPSG:4326')\n",
    "\n",
    "    return data"
   ]
  },
  {
   "cell_type": "markdown",
   "metadata": {},
   "source": [
    "## 还车热点区域 "
   ]
  },
  {
   "cell_type": "code",
   "execution_count": 6,
   "metadata": {
    "ExecuteTime": {
     "end_time": "2022-03-08T11:52:38.209903Z",
     "start_time": "2022-03-08T11:52:38.190529Z"
    }
   },
   "outputs": [],
   "source": [
    "def returnDataProcess(move_data, startT, endT):\n",
    "    \"\"\"输入一周的单车移动数据，指定的日期与指定的时刻\"\"\"\n",
    "    \"\"\"输出该日期该时间切片内还车return位置\"\"\"\n",
    "\n",
    "    data = move_data[(move_data['etime'] < endT) &\n",
    "                     (move_data['etime'] >= startT)]\n",
    "    data = data[['elon', 'elat']]\n",
    "\n",
    "    data['geometry'] = geopandas.points_from_xy(data['elon'], data['elat'])\n",
    "\n",
    "    data = geopandas.GeoDataFrame(data)\n",
    "    data = data.set_crs('EPSG:4326')\n",
    "    data = data.to_crs('EPSG:2416')\n",
    "\n",
    "    data['x'] = data.geometry.x\n",
    "    data['y'] = data.geometry.y\n",
    "\n",
    "    data = data.to_crs('EPSG:4326')\n",
    "\n",
    "    return data"
   ]
  },
  {
   "cell_type": "markdown",
   "metadata": {},
   "source": [
    "## 单车停放热点区域"
   ]
  },
  {
   "cell_type": "code",
   "execution_count": 7,
   "metadata": {
    "ExecuteTime": {
     "end_time": "2022-03-08T11:52:58.293831Z",
     "start_time": "2022-03-08T11:52:58.275870Z"
    }
   },
   "outputs": [],
   "source": [
    "def stopDataProcess(stop_data, t):\n",
    "    \"\"\"输入一周的停车数据，指定的日期与指定的时刻\"\"\"\n",
    "    \"\"\"输出该日期该时刻处于停放状态的单车位置\"\"\"\n",
    "\n",
    "    data = stop_data[(stop_data['stime'] <= t) & (stop_data['etime'] >= t)]\n",
    "    data = data[['slon', 'slat']]\n",
    "\n",
    "    data['geometry'] = geopandas.points_from_xy(data['slon'], data['slat'])\n",
    "\n",
    "    data = geopandas.GeoDataFrame(data)\n",
    "    data = data.set_crs('EPSG:4326')\n",
    "    data = data.to_crs('EPSG:2416')\n",
    "\n",
    "    data['x'] = data.geometry.x\n",
    "    data['y'] = data.geometry.y\n",
    "\n",
    "    data = data.to_crs('EPSG:4326')\n",
    "\n",
    "    return data"
   ]
  },
  {
   "cell_type": "markdown",
   "metadata": {},
   "source": [
    "# 小时级热点区域识别"
   ]
  },
  {
   "cell_type": "markdown",
   "metadata": {},
   "source": [
    "## 热点区域识别函数"
   ]
  },
  {
   "cell_type": "code",
   "execution_count": 8,
   "metadata": {
    "ExecuteTime": {
     "end_time": "2022-03-08T11:54:08.064587Z",
     "start_time": "2022-03-08T11:54:07.024907Z"
    }
   },
   "outputs": [],
   "source": [
    "from sklearn.cluster import DBSCAN\n",
    "import math\n",
    "import warnings\n",
    "warnings.filterwarnings(\"ignore\")\n",
    "\n",
    "\n",
    "def hotspotOutput(data, Time):\n",
    "\n",
    "    pi = 3.141592653589793\n",
    "\n",
    "    model = DBSCAN(eps=200, min_samples=130)\n",
    "\n",
    "    model.fit(data[['x', 'y']].values)\n",
    "\n",
    "    # 得到DBSCAN预测的分类便签\n",
    "    labels = model.labels_\n",
    "\n",
    "    temp = data.copy()\n",
    "    temp['group'] = labels\n",
    "    temp = temp[temp['group'] != -1]\n",
    "    \n",
    "    # 如果未聚类成功，全是离群点\n",
    "    if temp.empty:\n",
    "        print(str(Time)+\"未聚类成功\")\n",
    "    else:\n",
    "        temp = temp.dissolve(\"group\").convex_hull.reset_index().set_geometry(0)\\\n",
    "            .rename(columns={0: \"geometry\"})\n",
    "\n",
    "        # 计算面积\n",
    "        temp['area'] = temp.to_crs(epsg=2416).area\n",
    "        # 计算当量半径\n",
    "        temp['radius'] = temp.apply(lambda r: round(\n",
    "            math.sqrt(r['area']/pi), 2), axis=1)\n",
    "        # 计算几何中心经纬度\n",
    "        temp['x'] = temp['geometry'].centroid.x\n",
    "        temp['y'] = temp['geometry'].centroid.y\n",
    "        # 记录时间\n",
    "        temp['time'] = str(Time)\n",
    "\n",
    "    return temp"
   ]
  },
  {
   "cell_type": "markdown",
   "metadata": {},
   "source": [
    "## 取车热点区域"
   ]
  },
  {
   "cell_type": "code",
   "execution_count": null,
   "metadata": {},
   "outputs": [],
   "source": [
    "import numpy as np\n",
    "import datetime\n",
    "\n",
    "for day in np.arange(6,13):\n",
    "    \n",
    "    # 从06:00开始\n",
    "    starttime = pd.to_datetime('2019-05-'+str(day)+' 06:00:00')\n",
    "    \n",
    "    # 清空结果dataframe\n",
    "    datas = []\n",
    "    \n",
    "    # 每小时单车停放热点识别\n",
    "    for hour in range(17):\n",
    "        \n",
    "        sTime = starttime + datetime.timedelta(hours=hour*1)\n",
    "        eTime = sTime + datetime.timedelta(hours=1)\n",
    "        # 提取数据\n",
    "        data = pickupDataProcess(move_data, str(sTime), str(eTime))\n",
    "        \n",
    "        if data.empty:\n",
    "            print(str(sTime)+\"无数据\")\n",
    "        else:\n",
    "            # 热点识别，输出热点区域相关形态位置指标\n",
    "            res = hotspotOutput(data, sTime)\n",
    "            # 添加至结果dataframe\n",
    "            datas.append(res)\n",
    "\n",
    "    datas = pd.concat(datas)\n",
    "    datas = geopandas.GeoDataFrame(datas)\n",
    "    \n",
    "    datas.to_file(r'result\\pickuphotspot\\puh05'+str(day)+'.json', driver='GeoJSON')\n",
    "    print(\"5月\"+str(day)+\"日热点结果已保存\")"
   ]
  },
  {
   "cell_type": "markdown",
   "metadata": {},
   "source": [
    "## 还车热点区域"
   ]
  },
  {
   "cell_type": "code",
   "execution_count": null,
   "metadata": {},
   "outputs": [],
   "source": [
    "import numpy as np\n",
    "import datetime\n",
    "\n",
    "for day in np.arange(6,13):\n",
    "    \n",
    "    # 从06:00开始\n",
    "    starttime = pd.to_datetime('2019-05-'+str(day)+' 06:00:00')\n",
    "    \n",
    "    # 清空结果dataframe\n",
    "    datas = []\n",
    "    \n",
    "    # 每小时单车停放热点识别\n",
    "    for hour in range(17):\n",
    "        \n",
    "        sTime = starttime + datetime.timedelta(hours=hour*1)\n",
    "        eTime = sTime + datetime.timedelta(hours=1)\n",
    "        # 提取数据\n",
    "        data = returnDataProcess(move_data, str(sTime), str(eTime))\n",
    "        \n",
    "        if data.empty:\n",
    "            print(str(sTime)+\"无数据\")\n",
    "        else:\n",
    "            # 热点识别，输出热点区域相关形态位置指标\n",
    "            res = hotspotOutput(data, sTime)\n",
    "            # 添加至结果dataframe\n",
    "            datas.append(res)\n",
    "\n",
    "    datas = pd.concat(datas)\n",
    "    datas = geopandas.GeoDataFrame(datas)\n",
    "    \n",
    "    datas.to_file(r'result\\returnhotspot\\rh05'+str(day)+'.json', driver='GeoJSON')\n",
    "    print(\"5月\"+str(day)+\"日热点结果已保存\")"
   ]
  },
  {
   "cell_type": "markdown",
   "metadata": {},
   "source": [
    "## 单车停放热点区域"
   ]
  },
  {
   "cell_type": "code",
   "execution_count": null,
   "metadata": {},
   "outputs": [],
   "source": [
    "import numpy as np\n",
    "import datetime\n",
    "\n",
    "for day in np.arange(6,13):\n",
    "    \n",
    "    # 从06:00开始\n",
    "    starttime = pd.to_datetime('2019-05-'+str(day)+' 06:00:00')\n",
    "    \n",
    "    # 清空结果dataframe\n",
    "    datas = []\n",
    "    \n",
    "    # 每小时单车停放热点识别\n",
    "    for hour in range(18):\n",
    "        \n",
    "        Time = starttime + datetime.timedelta(hours=hour*1)\n",
    "        # 提取数据\n",
    "        data = stopDataProcess(stop_data, str(Time))\n",
    "        \n",
    "        if data.empty:\n",
    "            print(str(Time)+\"无数据\")\n",
    "        else:\n",
    "            # 热点识别，输出热点区域相关形态位置指标\n",
    "            res = hotspotOutput(data, Time)\n",
    "            # 添加至结果dataframe\n",
    "            datas.append(res)\n",
    "\n",
    "    datas = pd.concat(datas)\n",
    "    datas = geopandas.GeoDataFrame(datas)\n",
    "    \n",
    "    datas.to_file(r'result\\parkinghotspot\\ph05'+str(day)+'.json', driver='GeoJSON')\n",
    "    print(\"5月\"+str(day)+\"日热点结果已保存\")"
   ]
  }
 ],
 "metadata": {
  "kernelspec": {
   "display_name": "Python 3.8.5 64-bit ('base': conda)",
   "language": "python",
   "name": "python38564bitbasecondacf347245066f468a88d170b765efaa0c"
  },
  "language_info": {
   "codemirror_mode": {
    "name": "ipython",
    "version": 3
   },
   "file_extension": ".py",
   "mimetype": "text/x-python",
   "name": "python",
   "nbconvert_exporter": "python",
   "pygments_lexer": "ipython3",
   "version": "3.8.5"
  },
  "toc": {
   "base_numbering": 1,
   "nav_menu": {},
   "number_sections": true,
   "sideBar": true,
   "skip_h1_title": false,
   "title_cell": "Table of Contents",
   "title_sidebar": "Contents",
   "toc_cell": false,
   "toc_position": {},
   "toc_section_display": true,
   "toc_window_display": false
  }
 },
 "nbformat": 4,
 "nbformat_minor": 4
}
